{
 "cells": [
  {
   "cell_type": "markdown",
   "metadata": {},
   "source": [
    "### Bike Sharing - Kaggle competition"
   ]
  },
  {
   "cell_type": "code",
   "execution_count": 1,
   "metadata": {
    "collapsed": true
   },
   "outputs": [],
   "source": [
    "import numpy as np\n",
    "import pandas as pd\n",
    "import os\n",
    "import matplotlib.pyplot as plt\n",
    "%matplotlib inline\n",
    "import seaborn as sns\n",
    "from sklearn import linear_model\n",
    "from sklearn.metrics import r2_score\n",
    "from sklearn.ensemble import RandomForestClassifier\n",
    "from sklearn import cross_validation\n",
    "import math"
   ]
  },
  {
   "cell_type": "code",
   "execution_count": 90,
   "metadata": {
    "collapsed": false
   },
   "outputs": [
    {
     "data": {
      "text/html": [
       "<div>\n",
       "<table border=\"1\" class=\"dataframe\">\n",
       "  <thead>\n",
       "    <tr style=\"text-align: right;\">\n",
       "      <th></th>\n",
       "      <th>datetime</th>\n",
       "      <th>season</th>\n",
       "      <th>holiday</th>\n",
       "      <th>workingday</th>\n",
       "      <th>weather</th>\n",
       "      <th>temp</th>\n",
       "      <th>atemp</th>\n",
       "      <th>humidity</th>\n",
       "      <th>windspeed</th>\n",
       "      <th>casual</th>\n",
       "      <th>registered</th>\n",
       "      <th>count</th>\n",
       "    </tr>\n",
       "  </thead>\n",
       "  <tbody>\n",
       "    <tr>\n",
       "      <th>0</th>\n",
       "      <td>2011-01-01 00:00:00</td>\n",
       "      <td>1</td>\n",
       "      <td>0</td>\n",
       "      <td>0</td>\n",
       "      <td>1</td>\n",
       "      <td>9.84</td>\n",
       "      <td>14.395</td>\n",
       "      <td>81</td>\n",
       "      <td>0.0</td>\n",
       "      <td>3</td>\n",
       "      <td>13</td>\n",
       "      <td>16</td>\n",
       "    </tr>\n",
       "    <tr>\n",
       "      <th>1</th>\n",
       "      <td>2011-01-01 01:00:00</td>\n",
       "      <td>1</td>\n",
       "      <td>0</td>\n",
       "      <td>0</td>\n",
       "      <td>1</td>\n",
       "      <td>9.02</td>\n",
       "      <td>13.635</td>\n",
       "      <td>80</td>\n",
       "      <td>0.0</td>\n",
       "      <td>8</td>\n",
       "      <td>32</td>\n",
       "      <td>40</td>\n",
       "    </tr>\n",
       "    <tr>\n",
       "      <th>2</th>\n",
       "      <td>2011-01-01 02:00:00</td>\n",
       "      <td>1</td>\n",
       "      <td>0</td>\n",
       "      <td>0</td>\n",
       "      <td>1</td>\n",
       "      <td>9.02</td>\n",
       "      <td>13.635</td>\n",
       "      <td>80</td>\n",
       "      <td>0.0</td>\n",
       "      <td>5</td>\n",
       "      <td>27</td>\n",
       "      <td>32</td>\n",
       "    </tr>\n",
       "    <tr>\n",
       "      <th>3</th>\n",
       "      <td>2011-01-01 03:00:00</td>\n",
       "      <td>1</td>\n",
       "      <td>0</td>\n",
       "      <td>0</td>\n",
       "      <td>1</td>\n",
       "      <td>9.84</td>\n",
       "      <td>14.395</td>\n",
       "      <td>75</td>\n",
       "      <td>0.0</td>\n",
       "      <td>3</td>\n",
       "      <td>10</td>\n",
       "      <td>13</td>\n",
       "    </tr>\n",
       "    <tr>\n",
       "      <th>4</th>\n",
       "      <td>2011-01-01 04:00:00</td>\n",
       "      <td>1</td>\n",
       "      <td>0</td>\n",
       "      <td>0</td>\n",
       "      <td>1</td>\n",
       "      <td>9.84</td>\n",
       "      <td>14.395</td>\n",
       "      <td>75</td>\n",
       "      <td>0.0</td>\n",
       "      <td>0</td>\n",
       "      <td>1</td>\n",
       "      <td>1</td>\n",
       "    </tr>\n",
       "  </tbody>\n",
       "</table>\n",
       "</div>"
      ],
      "text/plain": [
       "              datetime  season  holiday  workingday  weather  temp   atemp  \\\n",
       "0  2011-01-01 00:00:00       1        0           0        1  9.84  14.395   \n",
       "1  2011-01-01 01:00:00       1        0           0        1  9.02  13.635   \n",
       "2  2011-01-01 02:00:00       1        0           0        1  9.02  13.635   \n",
       "3  2011-01-01 03:00:00       1        0           0        1  9.84  14.395   \n",
       "4  2011-01-01 04:00:00       1        0           0        1  9.84  14.395   \n",
       "\n",
       "   humidity  windspeed  casual  registered  count  \n",
       "0        81        0.0       3          13     16  \n",
       "1        80        0.0       8          32     40  \n",
       "2        80        0.0       5          27     32  \n",
       "3        75        0.0       3          10     13  \n",
       "4        75        0.0       0           1      1  "
      ]
     },
     "execution_count": 90,
     "metadata": {},
     "output_type": "execute_result"
    }
   ],
   "source": [
    "path = os.getcwd()\n",
    "path1 = path + '\\\\data\\\\train.csv'\n",
    "path2 = path + '\\\\data\\\\test.csv'\n",
    "\n",
    "train = pd.read_csv(path1)\n",
    "test = pd.read_csv(path2)\n",
    "\n",
    "train.head() # Target variable is count"
   ]
  },
  {
   "cell_type": "code",
   "execution_count": 32,
   "metadata": {
    "collapsed": false
   },
   "outputs": [
    {
     "data": {
      "text/html": [
       "<div>\n",
       "<table border=\"1\" class=\"dataframe\">\n",
       "  <thead>\n",
       "    <tr style=\"text-align: right;\">\n",
       "      <th></th>\n",
       "      <th>datetime</th>\n",
       "      <th>season</th>\n",
       "      <th>holiday</th>\n",
       "      <th>workingday</th>\n",
       "      <th>weather</th>\n",
       "      <th>temp</th>\n",
       "      <th>atemp</th>\n",
       "      <th>humidity</th>\n",
       "      <th>windspeed</th>\n",
       "      <th>casual</th>\n",
       "      <th>registered</th>\n",
       "      <th>count</th>\n",
       "    </tr>\n",
       "  </thead>\n",
       "  <tbody>\n",
       "    <tr>\n",
       "      <th>0</th>\n",
       "      <td>2011-01-01 00:00:00</td>\n",
       "      <td>1</td>\n",
       "      <td>0</td>\n",
       "      <td>0</td>\n",
       "      <td>1</td>\n",
       "      <td>9.84</td>\n",
       "      <td>14.395</td>\n",
       "      <td>81</td>\n",
       "      <td>0.0</td>\n",
       "      <td>3</td>\n",
       "      <td>13</td>\n",
       "      <td>16</td>\n",
       "    </tr>\n",
       "    <tr>\n",
       "      <th>1</th>\n",
       "      <td>2011-01-01 01:00:00</td>\n",
       "      <td>1</td>\n",
       "      <td>0</td>\n",
       "      <td>0</td>\n",
       "      <td>1</td>\n",
       "      <td>9.02</td>\n",
       "      <td>13.635</td>\n",
       "      <td>80</td>\n",
       "      <td>0.0</td>\n",
       "      <td>8</td>\n",
       "      <td>32</td>\n",
       "      <td>40</td>\n",
       "    </tr>\n",
       "    <tr>\n",
       "      <th>2</th>\n",
       "      <td>2011-01-01 02:00:00</td>\n",
       "      <td>1</td>\n",
       "      <td>0</td>\n",
       "      <td>0</td>\n",
       "      <td>1</td>\n",
       "      <td>9.02</td>\n",
       "      <td>13.635</td>\n",
       "      <td>80</td>\n",
       "      <td>0.0</td>\n",
       "      <td>5</td>\n",
       "      <td>27</td>\n",
       "      <td>32</td>\n",
       "    </tr>\n",
       "    <tr>\n",
       "      <th>3</th>\n",
       "      <td>2011-01-01 03:00:00</td>\n",
       "      <td>1</td>\n",
       "      <td>0</td>\n",
       "      <td>0</td>\n",
       "      <td>1</td>\n",
       "      <td>9.84</td>\n",
       "      <td>14.395</td>\n",
       "      <td>75</td>\n",
       "      <td>0.0</td>\n",
       "      <td>3</td>\n",
       "      <td>10</td>\n",
       "      <td>13</td>\n",
       "    </tr>\n",
       "    <tr>\n",
       "      <th>4</th>\n",
       "      <td>2011-01-01 04:00:00</td>\n",
       "      <td>1</td>\n",
       "      <td>0</td>\n",
       "      <td>0</td>\n",
       "      <td>1</td>\n",
       "      <td>9.84</td>\n",
       "      <td>14.395</td>\n",
       "      <td>75</td>\n",
       "      <td>0.0</td>\n",
       "      <td>0</td>\n",
       "      <td>1</td>\n",
       "      <td>1</td>\n",
       "    </tr>\n",
       "  </tbody>\n",
       "</table>\n",
       "</div>"
      ],
      "text/plain": [
       "              datetime  season  holiday  workingday  weather  temp   atemp  \\\n",
       "0  2011-01-01 00:00:00       1        0           0        1  9.84  14.395   \n",
       "1  2011-01-01 01:00:00       1        0           0        1  9.02  13.635   \n",
       "2  2011-01-01 02:00:00       1        0           0        1  9.02  13.635   \n",
       "3  2011-01-01 03:00:00       1        0           0        1  9.84  14.395   \n",
       "4  2011-01-01 04:00:00       1        0           0        1  9.84  14.395   \n",
       "\n",
       "   humidity  windspeed  casual  registered  count  \n",
       "0        81        0.0       3          13     16  \n",
       "1        80        0.0       8          32     40  \n",
       "2        80        0.0       5          27     32  \n",
       "3        75        0.0       3          10     13  \n",
       "4        75        0.0       0           1      1  "
      ]
     },
     "execution_count": 32,
     "metadata": {},
     "output_type": "execute_result"
    }
   ],
   "source": [
    "train.head()"
   ]
  },
  {
   "cell_type": "code",
   "execution_count": 94,
   "metadata": {
    "collapsed": false
   },
   "outputs": [
    {
     "data": {
      "text/html": [
       "<div>\n",
       "<table border=\"1\" class=\"dataframe\">\n",
       "  <thead>\n",
       "    <tr style=\"text-align: right;\">\n",
       "      <th></th>\n",
       "      <th>datetime</th>\n",
       "      <th>holiday</th>\n",
       "      <th>workingday</th>\n",
       "      <th>temp</th>\n",
       "      <th>humidity</th>\n",
       "      <th>windspeed</th>\n",
       "      <th>casual</th>\n",
       "      <th>registered</th>\n",
       "      <th>count</th>\n",
       "      <th>hour</th>\n",
       "      <th>...</th>\n",
       "      <th>Monday</th>\n",
       "      <th>Saturday</th>\n",
       "      <th>Sunday</th>\n",
       "      <th>Thursday</th>\n",
       "      <th>Tuesday</th>\n",
       "      <th>Wednesday</th>\n",
       "      <th>Clear</th>\n",
       "      <th>Cloudy</th>\n",
       "      <th>Heavy Precipitation</th>\n",
       "      <th>Light Precipitation</th>\n",
       "    </tr>\n",
       "  </thead>\n",
       "  <tbody>\n",
       "    <tr>\n",
       "      <th>0</th>\n",
       "      <td>2011-01-01 00:00:00</td>\n",
       "      <td>0</td>\n",
       "      <td>0</td>\n",
       "      <td>9.84</td>\n",
       "      <td>81</td>\n",
       "      <td>0.0</td>\n",
       "      <td>3</td>\n",
       "      <td>13</td>\n",
       "      <td>16</td>\n",
       "      <td>0</td>\n",
       "      <td>...</td>\n",
       "      <td>0.0</td>\n",
       "      <td>1.0</td>\n",
       "      <td>0.0</td>\n",
       "      <td>0.0</td>\n",
       "      <td>0.0</td>\n",
       "      <td>0.0</td>\n",
       "      <td>1.0</td>\n",
       "      <td>0.0</td>\n",
       "      <td>0.0</td>\n",
       "      <td>0.0</td>\n",
       "    </tr>\n",
       "    <tr>\n",
       "      <th>1</th>\n",
       "      <td>2011-01-01 01:00:00</td>\n",
       "      <td>0</td>\n",
       "      <td>0</td>\n",
       "      <td>9.02</td>\n",
       "      <td>80</td>\n",
       "      <td>0.0</td>\n",
       "      <td>8</td>\n",
       "      <td>32</td>\n",
       "      <td>40</td>\n",
       "      <td>1</td>\n",
       "      <td>...</td>\n",
       "      <td>0.0</td>\n",
       "      <td>1.0</td>\n",
       "      <td>0.0</td>\n",
       "      <td>0.0</td>\n",
       "      <td>0.0</td>\n",
       "      <td>0.0</td>\n",
       "      <td>1.0</td>\n",
       "      <td>0.0</td>\n",
       "      <td>0.0</td>\n",
       "      <td>0.0</td>\n",
       "    </tr>\n",
       "    <tr>\n",
       "      <th>2</th>\n",
       "      <td>2011-01-01 02:00:00</td>\n",
       "      <td>0</td>\n",
       "      <td>0</td>\n",
       "      <td>9.02</td>\n",
       "      <td>80</td>\n",
       "      <td>0.0</td>\n",
       "      <td>5</td>\n",
       "      <td>27</td>\n",
       "      <td>32</td>\n",
       "      <td>2</td>\n",
       "      <td>...</td>\n",
       "      <td>0.0</td>\n",
       "      <td>1.0</td>\n",
       "      <td>0.0</td>\n",
       "      <td>0.0</td>\n",
       "      <td>0.0</td>\n",
       "      <td>0.0</td>\n",
       "      <td>1.0</td>\n",
       "      <td>0.0</td>\n",
       "      <td>0.0</td>\n",
       "      <td>0.0</td>\n",
       "    </tr>\n",
       "    <tr>\n",
       "      <th>3</th>\n",
       "      <td>2011-01-01 03:00:00</td>\n",
       "      <td>0</td>\n",
       "      <td>0</td>\n",
       "      <td>9.84</td>\n",
       "      <td>75</td>\n",
       "      <td>0.0</td>\n",
       "      <td>3</td>\n",
       "      <td>10</td>\n",
       "      <td>13</td>\n",
       "      <td>3</td>\n",
       "      <td>...</td>\n",
       "      <td>0.0</td>\n",
       "      <td>1.0</td>\n",
       "      <td>0.0</td>\n",
       "      <td>0.0</td>\n",
       "      <td>0.0</td>\n",
       "      <td>0.0</td>\n",
       "      <td>1.0</td>\n",
       "      <td>0.0</td>\n",
       "      <td>0.0</td>\n",
       "      <td>0.0</td>\n",
       "    </tr>\n",
       "    <tr>\n",
       "      <th>4</th>\n",
       "      <td>2011-01-01 04:00:00</td>\n",
       "      <td>0</td>\n",
       "      <td>0</td>\n",
       "      <td>9.84</td>\n",
       "      <td>75</td>\n",
       "      <td>0.0</td>\n",
       "      <td>0</td>\n",
       "      <td>1</td>\n",
       "      <td>1</td>\n",
       "      <td>4</td>\n",
       "      <td>...</td>\n",
       "      <td>0.0</td>\n",
       "      <td>1.0</td>\n",
       "      <td>0.0</td>\n",
       "      <td>0.0</td>\n",
       "      <td>0.0</td>\n",
       "      <td>0.0</td>\n",
       "      <td>1.0</td>\n",
       "      <td>0.0</td>\n",
       "      <td>0.0</td>\n",
       "      <td>0.0</td>\n",
       "    </tr>\n",
       "  </tbody>\n",
       "</table>\n",
       "<p>5 rows × 67 columns</p>\n",
       "</div>"
      ],
      "text/plain": [
       "             datetime  holiday  workingday  temp  humidity  windspeed  casual  \\\n",
       "0 2011-01-01 00:00:00        0           0  9.84        81        0.0       3   \n",
       "1 2011-01-01 01:00:00        0           0  9.02        80        0.0       8   \n",
       "2 2011-01-01 02:00:00        0           0  9.02        80        0.0       5   \n",
       "3 2011-01-01 03:00:00        0           0  9.84        75        0.0       3   \n",
       "4 2011-01-01 04:00:00        0           0  9.84        75        0.0       0   \n",
       "\n",
       "   registered  count  hour         ...           Monday  Saturday  Sunday  \\\n",
       "0          13     16     0         ...              0.0       1.0     0.0   \n",
       "1          32     40     1         ...              0.0       1.0     0.0   \n",
       "2          27     32     2         ...              0.0       1.0     0.0   \n",
       "3          10     13     3         ...              0.0       1.0     0.0   \n",
       "4           1      1     4         ...              0.0       1.0     0.0   \n",
       "\n",
       "   Thursday  Tuesday  Wednesday  Clear  Cloudy  Heavy Precipitation  \\\n",
       "0       0.0      0.0        0.0    1.0     0.0                  0.0   \n",
       "1       0.0      0.0        0.0    1.0     0.0                  0.0   \n",
       "2       0.0      0.0        0.0    1.0     0.0                  0.0   \n",
       "3       0.0      0.0        0.0    1.0     0.0                  0.0   \n",
       "4       0.0      0.0        0.0    1.0     0.0                  0.0   \n",
       "\n",
       "   Light Precipitation  \n",
       "0                  0.0  \n",
       "1                  0.0  \n",
       "2                  0.0  \n",
       "3                  0.0  \n",
       "4                  0.0  \n",
       "\n",
       "[5 rows x 67 columns]"
      ]
     },
     "execution_count": 94,
     "metadata": {},
     "output_type": "execute_result"
    }
   ],
   "source": [
    "if 'season' in train: # So we can re-run this notebook line without giving errors\n",
    "    \n",
    "    seasons = {1:'Winter', 2:'Spring', 3:'Summer', 4:'Autumn'}\n",
    "    months = {1:'January', 2:'February', 3:'March', 4:'April', 5:'May', 6:'June', 7:'July', 8:'August', 9:'September', 10:'October', 11:'November', 12:'December'}\n",
    "    weekdays = {0:'Monday', 1:'Tuesday', 2:'Wednesday', 3:'Thursday', 4:'Friday', 5:'Saturday', 6:'Sunday'}\n",
    "    weather = {1:'Clear', 2:'Cloudy', 3:'Light Precipitation', 4:'Heavy Precipitation'}\n",
    "    \n",
    "    # Preprocessing train data\n",
    "    train['datetime'] = pd.DatetimeIndex(train['datetime'])\n",
    "    timesTrain = pd.DatetimeIndex(train['datetime'])\n",
    "    train['year'] = timesTrain.year\n",
    "    train['hour'] = timesTrain.hour\n",
    "    train['twilight_0am-5am'] = np.where(train['hour']<=5, 1, 0) # Didnt influence score, should remove it\n",
    "    train['morning_6am-12pm'] = np.where(((train['hour']>5) & (train['hour']<=12)), 1, 0)\n",
    "    train['afternoon_12pm-6pm'] = np.where(((train['hour']>12) & (train['hour']<=18)), 1, 0)\n",
    "    train['evening_7pm-11pm'] = np.where(((train['hour']>18) & (train['hour']<=23)), 1, 0)\n",
    "    train['month'] = timesTrain.month\n",
    "    train['day'] = timesTrain.day\n",
    "    train['weekday'] = timesTrain.weekday\n",
    "    train['season'] = train['season'].map(seasons)\n",
    "    train['month'] = train['month'].map(months)\n",
    "    train['weekday'] = train['weekday'].map(weekdays)\n",
    "    train['weather'] = train['weather'].map(weather)\n",
    "    #train = train.set_index('datetime')\n",
    "    #workday_tomorrow_train = train[['workingday', 'day', 'hour']]\n",
    "    #workday_tomorrow_train = workday_tomorrow_train.drop(workday_tomorrow_train.index[0:24]).reset_index().drop(labels=['index'], axis=1)\n",
    "    #train = pd.concat([train, work_day_tomorrow_train.rename(columns={'workingday':'work_tomorrow'})], axis=1)\n",
    "    train = pd.concat([train, pd.get_dummies(train['year']), pd.get_dummies(train['season']), pd.get_dummies(train['month']), pd.get_dummies(train['hour']), pd.get_dummies(train['weekday']), pd.get_dummies(train['weather'])], axis=1)\n",
    "    train = train.drop(labels=['year', 'season', 'month', 'weekday', 'weather', 'day', 'atemp'],axis=1) # Dropping columns not present in test df and duplicated\n",
    "    train = train.dropna()\n",
    "    \n",
    "    # Preprocessing test data\n",
    "    timesTest = pd.DatetimeIndex(test['datetime'])\n",
    "    test['year'] = timesTest.year\n",
    "    test['hour'] = timesTest.hour\n",
    "    test['month'] = timesTest.month\n",
    "    test['day'] = timesTest.day\n",
    "    test['weekday'] = timesTest.weekday\n",
    "    test['season'] = test['season'].map(seasons)\n",
    "    test['month'] = test['month'].map(months)\n",
    "    test['weekday'] = test['weekday'].map(weekdays)\n",
    "    test['weather'] = test['weather'].map(weather)\n",
    "    #test = test.set_index('datetime')\n",
    "    #workday_tomorrow_test = test[['workingday', 'day', 'hour']]\n",
    "    #workday_tomorrow_test = workday_tomorrow_test.drop(workday_tomorrow_test.index[0:24]).reset_index().drop(labels=['index'], axis=1)\n",
    "    #test = pd.concat([test, workday_tomorrow_test.rename(columns={'workingday':'work_tomorrow'})], axis=1)\n",
    "    test = pd.concat([test, pd.get_dummies(test['year']), pd.get_dummies(test['season']), pd.get_dummies(test['month']), pd.get_dummies(test['hour']), pd.get_dummies(test['weekday']), pd.get_dummies(test['weather'])], axis=1)\n",
    "    test = test.drop(labels=['year', 'season', 'month', 'weekday', 'weather','day', 'atemp'], axis=1)\n",
    "    test = train.dropna()\n",
    "    \n",
    "# Include work_tomorrow, work_yesterday,and use the casual & registered infos in the dataset    \n",
    "\n",
    "train.to_csv(path + \"\\\\data\\\\bike_sharing_dashboard_data.csv\")\n",
    "train.to_json(path + \"\\\\data\\\\bike_sharing_dashboard_data.json\",orient='records')\n",
    "\n",
    "train.head()"
   ]
  },
  {
   "cell_type": "markdown",
   "metadata": {},
   "source": [
    "### Notes on EDA and certain design choices in feature engineering\n",
    "\n",
    "1. Most important features were extracted from datetime, of which hour was by far the most important. Weekday also plays a role.\n",
    "2. Day of the month made no difference on linear regression and led to overfitting on random forests, so it was dropped.\n",
    "3. Atemp seemed to overfit the dataset since it is highly correlated with temp, also removed.\n",
    "4. Predicting casual and registered separately and summing them yields slightly better forescasts."
   ]
  },
  {
   "cell_type": "code",
   "execution_count": 57,
   "metadata": {
    "collapsed": true
   },
   "outputs": [],
   "source": [
    "# C = casual, R = registered, T = Total\n",
    "\n",
    "lrg_C = linear_model.LinearRegression()\n",
    "lrg_R = linear_model.LinearRegression()\n",
    "lrg_T = linear_model.LinearRegression()\n",
    "\n",
    "rf_C = RandomForestClassifier(n_estimators=20)\n",
    "rf_R = RandomForestClassifier(n_estimators=20)\n",
    "rf_T = RandomForestClassifier(n_estimators=20)"
   ]
  },
  {
   "cell_type": "code",
   "execution_count": 58,
   "metadata": {
    "collapsed": false
   },
   "outputs": [],
   "source": [
    "y_T = train[['casual', 'registered', 'count']]\n",
    "\n",
    "X = train.drop(labels=['count', 'casual', 'registered'], axis=1)"
   ]
  },
  {
   "cell_type": "code",
   "execution_count": 59,
   "metadata": {
    "collapsed": false
   },
   "outputs": [],
   "source": [
    "X_T_train, X_T_test, y_T_train, y_T_test = cross_validation.train_test_split(X, y_T, test_size=0.4, random_state=0)\n",
    "\n",
    "y_C_train = y_T_train['casual']\n",
    "y_C_test = y_T_test['casual']\n",
    "\n",
    "y_R_train = y_T_train['registered']\n",
    "y_R_test = y_T_test['registered']\n",
    "\n",
    "y_count_train = y_T_train['count']\n",
    "y_count_test = y_T_test['count']"
   ]
  },
  {
   "cell_type": "code",
   "execution_count": 60,
   "metadata": {
    "collapsed": false
   },
   "outputs": [
    {
     "data": {
      "text/plain": [
       "RandomForestClassifier(bootstrap=True, class_weight=None, criterion='gini',\n",
       "            max_depth=None, max_features='auto', max_leaf_nodes=None,\n",
       "            min_samples_leaf=1, min_samples_split=2,\n",
       "            min_weight_fraction_leaf=0.0, n_estimators=20, n_jobs=1,\n",
       "            oob_score=False, random_state=None, verbose=0,\n",
       "            warm_start=False)"
      ]
     },
     "execution_count": 60,
     "metadata": {},
     "output_type": "execute_result"
    }
   ],
   "source": [
    "lrg_C.fit(X_T_train ,y_C_train)\n",
    "rf_C.fit(X_T_train, y_C_train)"
   ]
  },
  {
   "cell_type": "code",
   "execution_count": 61,
   "metadata": {
    "collapsed": false
   },
   "outputs": [
    {
     "data": {
      "text/plain": [
       "RandomForestClassifier(bootstrap=True, class_weight=None, criterion='gini',\n",
       "            max_depth=None, max_features='auto', max_leaf_nodes=None,\n",
       "            min_samples_leaf=1, min_samples_split=2,\n",
       "            min_weight_fraction_leaf=0.0, n_estimators=20, n_jobs=1,\n",
       "            oob_score=False, random_state=None, verbose=0,\n",
       "            warm_start=False)"
      ]
     },
     "execution_count": 61,
     "metadata": {},
     "output_type": "execute_result"
    }
   ],
   "source": [
    "lrg_R.fit(X_T_train ,y_R_train)\n",
    "rf_R.fit(X_T_train, y_R_train)"
   ]
  },
  {
   "cell_type": "code",
   "execution_count": 62,
   "metadata": {
    "collapsed": false
   },
   "outputs": [
    {
     "data": {
      "text/plain": [
       "RandomForestClassifier(bootstrap=True, class_weight=None, criterion='gini',\n",
       "            max_depth=None, max_features='auto', max_leaf_nodes=None,\n",
       "            min_samples_leaf=1, min_samples_split=2,\n",
       "            min_weight_fraction_leaf=0.0, n_estimators=20, n_jobs=1,\n",
       "            oob_score=False, random_state=None, verbose=0,\n",
       "            warm_start=False)"
      ]
     },
     "execution_count": 62,
     "metadata": {},
     "output_type": "execute_result"
    }
   ],
   "source": [
    "lrg_T.fit(X_T_train ,y_count_train)\n",
    "rf_T.fit(X_T_train, y_count_train)"
   ]
  },
  {
   "cell_type": "code",
   "execution_count": 63,
   "metadata": {
    "collapsed": false
   },
   "outputs": [
    {
     "name": "stdout",
     "output_type": "stream",
     "text": [
      "LR, C, Residual sum of squares: 937.57\n",
      "RF, C, Residual sum of squares: 674.50\n",
      "\n",
      "LR, R, Residual sum of squares: 6718.49\n",
      "RF, R, Residual sum of squares: 6417.84\n",
      "------------------------------\n",
      "LR, T, Residual sum of squares: 9672.13\n",
      "RF, T, Residual sum of squares: 7660.90\n",
      "\n",
      "Model fit together below\n",
      "\n",
      "LR, Count, Residual sum of squares: 9708.85\n",
      "RF, Count, Residual sum of squares: 8172.14\n"
     ]
    }
   ],
   "source": [
    "## CASUAL\n",
    "\n",
    "predict_train_lrg_C = lrg_C.predict(X_T_test)\n",
    "predict_train_rf_C = rf_C.predict(X_T_test)\n",
    "predict_train_lrg_C = np.maximum(predict_train_lrg_C, 0.0) # Forcing predictions to give 0 whenever linear regression fits into negative\n",
    "print(\"LR, C, Residual sum of squares: %.2f\" % np.mean((predict_train_lrg_C - y_C_test) ** 2))\n",
    "print(\"RF, C, Residual sum of squares: %.2f\" % np.mean((predict_train_rf_C - y_C_test) ** 2))\n",
    "\n",
    "print(\"\")\n",
    "\n",
    "## REGISTERED\n",
    "\n",
    "predict_train_lrg_R = lrg_R.predict(X_T_test)\n",
    "predict_train_rf_R = rf_R.predict(X_T_test)\n",
    "predict_train_lrg_R = np.maximum(predict_train_lrg_R, 0.0) # Forcing predictions to give 0 whenever linear regression fits into negative\n",
    "print(\"LR, R, Residual sum of squares: %.2f\" % np.mean((predict_train_lrg_R - y_R_test) ** 2))\n",
    "print(\"RF, R, Residual sum of squares: %.2f\" % np.mean((predict_train_rf_R - y_R_test) ** 2))\n",
    "\n",
    "print(\"------------------------------\")\n",
    "\n",
    "predict_train_lrg_T = predict_train_lrg_C + predict_train_lrg_R\n",
    "predict_train_rf_T = predict_train_rf_C + predict_train_rf_R\n",
    "y_T_test = y_C_test + y_R_test\n",
    "\n",
    "print(\"LR, T, Residual sum of squares: %.2f\" % np.mean((predict_train_lrg_T - y_T_test) ** 2))\n",
    "print(\"RF, T, Residual sum of squares: %.2f\" % np.mean((predict_train_rf_T - y_T_test) ** 2))\n",
    "\n",
    "print(\"\")\n",
    "print(\"Model fit together below\")\n",
    "print(\"\")\n",
    "\n",
    "predict_train_lrg_count = lrg_T.predict(X_T_test)\n",
    "predict_train_rf_count = rf_T.predict(X_T_test)\n",
    "predict_train_lrg_count = np.maximum(predict_train_lrg_count, 0.0) # Forcing predictions to give 0 whenever linear regression fits into negative\n",
    "\n",
    "print(\"LR, Count, Residual sum of squares: %.2f\" % np.mean((predict_train_lrg_count - y_count_test) ** 2))\n",
    "print(\"RF, Count, Residual sum of squares: %.2f\" % np.mean((predict_train_rf_count - y_count_test) ** 2))\n"
   ]
  },
  {
   "cell_type": "code",
   "execution_count": 64,
   "metadata": {
    "collapsed": false
   },
   "outputs": [
    {
     "name": "stdout",
     "output_type": "stream",
     "text": [
      "LR, C, R-squared score: 0.633\n",
      "RF, C, R-squared score: 0.736\n",
      "\n",
      "LR, R, R-squared score: 0.696\n",
      "RF, R, R-squared score: 0.710\n",
      "\n",
      "------------------------------\n",
      "\n",
      "LR, T, R-squared score: 0.700\n",
      "RF, T, R-squared score: 0.763\n",
      "\n",
      "Model fit together below\n",
      "\n",
      "LR, count, R-squared score: 0.699\n",
      "RF, count, R-squared score: 0.747\n"
     ]
    }
   ],
   "source": [
    "## CASUAL\n",
    "\n",
    "print('LR, C, R-squared score: %.3f' % r2_score(y_C_test, predict_train_lrg_C))\n",
    "print('RF, C, R-squared score: %.3f' % r2_score(y_C_test, predict_train_rf_C))\n",
    "\n",
    "print(\"\")\n",
    "\n",
    "## REGISTERED\n",
    "\n",
    "print('LR, R, R-squared score: %.3f' % r2_score(y_R_test, predict_train_lrg_R))\n",
    "print('RF, R, R-squared score: %.3f' % r2_score(y_R_test, predict_train_rf_R))\n",
    "\n",
    "print(\"\")\n",
    "print(\"------------------------------\")\n",
    "print(\"\")\n",
    "\n",
    "print('LR, T, R-squared score: %.3f' % r2_score(y_T_test, predict_train_lrg_T))\n",
    "print('RF, T, R-squared score: %.3f' % r2_score(y_T_test, predict_train_rf_T))\n",
    "\n",
    "print(\"\")\n",
    "print(\"Model fit together below\")\n",
    "print(\"\")\n",
    "\n",
    "print('LR, count, R-squared score: %.3f' % r2_score(y_count_test, predict_train_lrg_count))\n",
    "print('RF, count, R-squared score: %.3f' % r2_score(y_count_test, predict_train_rf_count))\n"
   ]
  },
  {
   "cell_type": "code",
   "execution_count": 65,
   "metadata": {
    "collapsed": false
   },
   "outputs": [],
   "source": [
    "def rmsle(y_actual, y_pred):\n",
    "    sle = (np.log(np.array(y_actual)+1) - np.log(np.array(y_pred)+1))**2\n",
    "    rmsle =  np.sqrt((sle**2).mean())\n",
    "    return rmsle"
   ]
  },
  {
   "cell_type": "code",
   "execution_count": 66,
   "metadata": {
    "collapsed": false
   },
   "outputs": [
    {
     "name": "stdout",
     "output_type": "stream",
     "text": [
      "LR, C, Root Mean Squared Log Error, RMSLE: 2.19\n",
      "RF, C, Root Mean Squared Log Error, RMSLE: 1.22\n",
      "\n",
      "LR, R, Root Mean Squared Log Error, RMSLE: 3.19\n",
      "RF, R, Root Mean Squared Log Error, RMSLE: 0.95\n",
      "\n",
      "------------------------------\n",
      "\n",
      "LR, T, Root Mean Squared Log Error, RMSLE: 2.26\n",
      "RF, T, Root Mean Squared Log Error, RMSLE: 0.83\n",
      "\n",
      "Model fit together below\n",
      "\n",
      "LR, count, Root Mean Squared Log Error, RMSLE: 3.05\n",
      "RF, count, Root Mean Squared Log Error, RMSLE: 0.76\n"
     ]
    }
   ],
   "source": [
    "## CASUAL\n",
    "\n",
    "print(\"LR, C, Root Mean Squared Log Error, RMSLE: %.2f\" % rmsle(y_C_test, predict_train_lrg_C))\n",
    "print(\"RF, C, Root Mean Squared Log Error, RMSLE: %.2f\" % rmsle(y_C_test, predict_train_rf_C))\n",
    "\n",
    "print(\"\")\n",
    "\n",
    "print(\"LR, R, Root Mean Squared Log Error, RMSLE: %.2f\" % rmsle(y_R_test, predict_train_lrg_R))\n",
    "print(\"RF, R, Root Mean Squared Log Error, RMSLE: %.2f\" % rmsle(y_R_test, predict_train_rf_R))\n",
    "\n",
    "print(\"\")\n",
    "print(\"------------------------------\")\n",
    "print(\"\")\n",
    "\n",
    "print(\"LR, T, Root Mean Squared Log Error, RMSLE: %.2f\" % rmsle(y_T_test, predict_train_lrg_T))\n",
    "print(\"RF, T, Root Mean Squared Log Error, RMSLE: %.2f\" % rmsle(y_T_test, predict_train_rf_T))\n",
    "\n",
    "print(\"\")\n",
    "print(\"Model fit together below\")\n",
    "print(\"\")\n",
    "\n",
    "print(\"LR, count, Root Mean Squared Log Error, RMSLE: %.2f\" % rmsle(y_count_test, predict_train_lrg_count))\n",
    "print(\"RF, count, Root Mean Squared Log Error, RMSLE: %.2f\" % rmsle(y_count_test, predict_train_rf_count))\n"
   ]
  },
  {
   "cell_type": "code",
   "execution_count": 75,
   "metadata": {
    "collapsed": false
   },
   "outputs": [
    {
     "data": {
      "text/plain": [
       "datetime\n",
       "2012-03-13 21:00:00    244\n",
       "2012-06-12 16:00:00    239\n",
       "2012-02-02 16:00:00    229\n",
       "2012-06-15 19:00:00    467\n",
       "2012-02-01 19:00:00    335\n",
       "dtype: object"
      ]
     },
     "execution_count": 75,
     "metadata": {},
     "output_type": "execute_result"
    }
   ],
   "source": [
    "y_T_test_plot = y_T_test\n",
    "y_T_test_plot['datetime2'] = y_T_test_plot.index\n",
    "y_T_test_plot.head()\n",
    "#y_T_test_plot['datetime'] = pd.DatetimeIndex(y_T_test.index)\n",
    "#plt.plot(y_T_test_plot, \"ro\", color=\"red\")\n",
    "#plt.plot(predict_train_rf_T, \"ro\", color=\"blue\") # ??? Something here seems wrong...\n",
    "#plt.show()"
   ]
  },
  {
   "cell_type": "code",
   "execution_count": 25,
   "metadata": {
    "collapsed": false
   },
   "outputs": [
    {
     "data": {
      "text/plain": [
       "[<matplotlib.lines.Line2D at 0x21f092c51d0>]"
      ]
     },
     "execution_count": 25,
     "metadata": {},
     "output_type": "execute_result"
    },
    {
     "data": {
      "image/png": "[encoded data removed]",
      "text/plain": [
       "<matplotlib.figure.Figure at 0x21f093b4a90>"
      ]
     },
     "metadata": {},
     "output_type": "display_data"
    }
   ],
   "source": [
    "train2 = pd.read_csv(path1)\n",
    "#plot_train_X = train2.drop(labels=['count'], axis=1).datetime\n",
    "plot_train_X = pd.DatetimeIndex(train2['datetime'])\n",
    "plot_train_y = train2['count']\n",
    "plt.plot(plot_train_X, plot_train_y)"
   ]
  },
  {
   "cell_type": "code",
   "execution_count": null,
   "metadata": {
    "collapsed": true
   },
   "outputs": [],
   "source": []
  }
 ],
 "metadata": {
  "anaconda-cloud": {},
  "kernelspec": {
   "display_name": "Python [Root]",
   "language": "python",
   "name": "Python [Root]"
  },
  "language_info": {
   "codemirror_mode": {
    "name": "ipython",
    "version": 3
   },
   "file_extension": ".py",
   "mimetype": "text/x-python",
   "name": "python",
   "nbconvert_exporter": "python",
   "pygments_lexer": "ipython3",
   "version": "3.5.2"
  }
 },
 "nbformat": 4,
 "nbformat_minor": 0
}
